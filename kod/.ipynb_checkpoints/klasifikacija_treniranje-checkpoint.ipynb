{
 "cells": [
  {
   "cell_type": "code",
   "execution_count": 1,
   "metadata": {
    "executionInfo": {
     "elapsed": 2496,
     "status": "ok",
     "timestamp": 1635678653365,
     "user": {
      "displayName": "Renato Jurisic",
      "photoUrl": "https://lh3.googleusercontent.com/a/default-user=s64",
      "userId": "05301050288504605714"
     },
     "user_tz": -60
    },
    "id": "DVSCJsHxlSxq"
   },
   "outputs": [],
   "source": [
    "# dodajemo sve potrebne importe\n",
    "import tensorflow as tf\n",
    "import tensorflow_datasets as tfds\n",
    "from matplotlib import pyplot as plt\n",
    "import pandas as pd\n",
    "import numpy as np"
   ]
  },
  {
   "cell_type": "code",
   "execution_count": 3,
   "metadata": {
    "executionInfo": {
     "elapsed": 65034,
     "status": "ok",
     "timestamp": 1635678901592,
     "user": {
      "displayName": "Renato Jurisic",
      "photoUrl": "https://lh3.googleusercontent.com/a/default-user=s64",
      "userId": "05301050288504605714"
     },
     "user_tz": -60
    },
    "id": "R43IzhZIlVJP"
   },
   "outputs": [],
   "source": [
    "# ucitavanje podataka\n",
    "train, test = tfds.load( 'emnist/balanced', split=['train', 'test'], shuffle_files=True)\n",
    "df_train = tfds.as_dataframe( train)\n",
    "df_test = tfds.as_dataframe( test)"
   ]
  },
  {
   "cell_type": "code",
   "execution_count": 4,
   "metadata": {
    "executionInfo": {
     "elapsed": 58,
     "status": "ok",
     "timestamp": 1635678901595,
     "user": {
      "displayName": "Renato Jurisic",
      "photoUrl": "https://lh3.googleusercontent.com/a/default-user=s64",
      "userId": "05301050288504605714"
     },
     "user_tz": -60
    },
    "id": "ObVXoVvQlWic"
   },
   "outputs": [],
   "source": [
    "# inicijalno je dataset rotiran za 90 stupnjeva i zrcaljen, mozemo tranirati i na tome, ali mozemo ih i vratiti u originalan oblik\n",
    "def reshape_rot_flip( img):\n",
    "    img = np.rot90(img, k=-1, axes=(0,1))\n",
    "    img = np.flip( img, (1))\n",
    "    return img"
   ]
  },
  {
   "cell_type": "code",
   "execution_count": 5,
   "metadata": {
    "executionInfo": {
     "elapsed": 5488,
     "status": "ok",
     "timestamp": 1635678907027,
     "user": {
      "displayName": "Renato Jurisic",
      "photoUrl": "https://lh3.googleusercontent.com/a/default-user=s64",
      "userId": "05301050288504605714"
     },
     "user_tz": -60
    },
    "id": "By4HmOJ6lX14"
   },
   "outputs": [],
   "source": [
    "# vracanje podataka u originalan oblik\n",
    "x_train = np.stack( [reshape_rot_flip(img) for img in df_train['image']]) / 255\n",
    "y_train = df_train['label'].to_numpy()\n",
    "x_test = np.stack( [reshape_rot_flip(img) for img in df_test['image']]) / 255\n",
    "y_test = df_test['label'].to_numpy()"
   ]
  },
  {
   "cell_type": "code",
   "execution_count": 6,
   "metadata": {
    "executionInfo": {
     "elapsed": 50,
     "status": "ok",
     "timestamp": 1635678907029,
     "user": {
      "displayName": "Renato Jurisic",
      "photoUrl": "https://lh3.googleusercontent.com/a/default-user=s64",
      "userId": "05301050288504605714"
     },
     "user_tz": -60
    },
    "id": "m1PUxNpvlZM_"
   },
   "outputs": [],
   "source": [
    "# funkcija za crtanje\n",
    "def plot_curve( epochs, hist, list_of_metrics):\n",
    "    plt.figure()\n",
    "    plt.xlabel( 'Epoch')\n",
    "    plt.ylabel( 'Value')\n",
    "    \n",
    "    for m in list_of_metrics:\n",
    "        x = hist[m]\n",
    "        plt.plot( epochs[1:], x[1:], label=m)\n",
    "        \n",
    "    plt.legend()"
   ]
  },
  {
   "cell_type": "code",
   "execution_count": 7,
   "metadata": {
    "executionInfo": {
     "elapsed": 365,
     "status": "ok",
     "timestamp": 1635678907346,
     "user": {
      "displayName": "Renato Jurisic",
      "photoUrl": "https://lh3.googleusercontent.com/a/default-user=s64",
      "userId": "05301050288504605714"
     },
     "user_tz": -60
    },
    "id": "-aDiQj58lbyh"
   },
   "outputs": [],
   "source": [
    "# definiranje arhitekture modela\n",
    "def create_model( learning_rate):\n",
    "    model = tf.keras.models.Sequential()\n",
    "    \n",
    "    model.add( tf.keras.layers.Conv2D( filters=32, kernel_size=(3,3), activation='relu', input_shape=(28,28,1)))\n",
    "    model.add( tf.keras.layers.MaxPool2D( pool_size=(2,2), strides=2))\n",
    "    model.add( tf.keras.layers.Conv2D( filters=64, kernel_size=(3,3), activation='relu', padding='same'))\n",
    "    model.add( tf.keras.layers.MaxPool2D( pool_size=(2,2), strides=2))\n",
    "    model.add( tf.keras.layers.Conv2D( filters=128, kernel_size=(3,3), activation='relu', padding='valid'))\n",
    "    model.add( tf.keras.layers.MaxPool2D( pool_size=(2,2), strides=2))\n",
    "    model.add( tf.keras.layers.Flatten())\n",
    "    model.add( tf.keras.layers.Dense( 64, activation='relu'))\n",
    "    model.add( tf.keras.layers.Dense( 128, activation='relu'))\n",
    "    model.add( tf.keras.layers.Dropout( rate=0.2))\n",
    "    model.add( tf.keras.layers.Dense( 47, activation='softmax'))\n",
    "    \n",
    "    model.compile( optimizer=tf.keras.optimizers.Adam( learning_rate=learning_rate),\n",
    "                    loss=\"sparse_categorical_crossentropy\",\n",
    "                    metrics=['accuracy'])\n",
    "    \n",
    "    return model\n",
    "\n",
    "# funkcija koja trenira model\n",
    "def train_model( model, train_features, train_label, epochs,\n",
    "                    batch_size=None, validation_split=0.1):\n",
    "\n",
    "    history = model.fit( x=train_features, y=train_label, batch_size=batch_size,\n",
    "                           epochs=epochs, shuffle=True,\n",
    "                           validation_split=validation_split)\n",
    "    \n",
    "    epochs = history.epoch\n",
    "    hist = pd.DataFrame( history.history)\n",
    "    \n",
    "    return epochs, hist"
   ]
  },
  {
   "cell_type": "code",
   "execution_count": 8,
   "metadata": {
    "colab": {
     "base_uri": "https://localhost:8080/",
     "height": 1000
    },
    "executionInfo": {
     "elapsed": 265360,
     "status": "ok",
     "timestamp": 1635679172700,
     "user": {
      "displayName": "Renato Jurisic",
      "photoUrl": "https://lh3.googleusercontent.com/a/default-user=s64",
      "userId": "05301050288504605714"
     },
     "user_tz": -60
    },
    "id": "4JtMCc-Rlcm5",
    "outputId": "e7dd7d1f-2e1a-4644-b786-cc9988b7e288"
   },
   "outputs": [
    {
     "name": "stdout",
     "output_type": "stream",
     "text": [
      "Epoch 1/50\n",
      "23/23 [==============================] - 37s 244ms/step - loss: 3.5951 - accuracy: 0.0919 - val_loss: 2.7562 - val_accuracy: 0.2952\n",
      "Epoch 2/50\n",
      "23/23 [==============================] - 4s 165ms/step - loss: 2.2554 - accuracy: 0.3524 - val_loss: 1.4427 - val_accuracy: 0.5997\n",
      "Epoch 3/50\n",
      "23/23 [==============================] - 4s 167ms/step - loss: 1.4288 - accuracy: 0.5644 - val_loss: 0.9622 - val_accuracy: 0.7106\n",
      "Epoch 4/50\n",
      "23/23 [==============================] - 4s 166ms/step - loss: 1.0620 - accuracy: 0.6664 - val_loss: 0.7865 - val_accuracy: 0.7517\n",
      "Epoch 5/50\n",
      "23/23 [==============================] - 4s 165ms/step - loss: 0.8812 - accuracy: 0.7171 - val_loss: 0.6697 - val_accuracy: 0.7861\n",
      "Epoch 6/50\n",
      "23/23 [==============================] - 4s 168ms/step - loss: 0.7793 - accuracy: 0.7450 - val_loss: 0.6117 - val_accuracy: 0.8008\n",
      "Epoch 7/50\n",
      "23/23 [==============================] - 4s 168ms/step - loss: 0.7001 - accuracy: 0.7682 - val_loss: 0.5711 - val_accuracy: 0.8101\n",
      "Epoch 8/50\n",
      "23/23 [==============================] - 4s 168ms/step - loss: 0.6472 - accuracy: 0.7846 - val_loss: 0.5320 - val_accuracy: 0.8220\n",
      "Epoch 9/50\n",
      "23/23 [==============================] - 4s 168ms/step - loss: 0.6115 - accuracy: 0.7947 - val_loss: 0.5128 - val_accuracy: 0.8273\n",
      "Epoch 10/50\n",
      "23/23 [==============================] - 4s 169ms/step - loss: 0.5810 - accuracy: 0.8048 - val_loss: 0.4878 - val_accuracy: 0.8336\n",
      "Epoch 11/50\n",
      "23/23 [==============================] - 4s 171ms/step - loss: 0.5547 - accuracy: 0.8129 - val_loss: 0.4745 - val_accuracy: 0.8368\n",
      "Epoch 12/50\n",
      "23/23 [==============================] - 4s 169ms/step - loss: 0.5289 - accuracy: 0.8200 - val_loss: 0.4621 - val_accuracy: 0.8423\n",
      "Epoch 13/50\n",
      "23/23 [==============================] - 4s 169ms/step - loss: 0.5095 - accuracy: 0.8275 - val_loss: 0.4463 - val_accuracy: 0.8469\n",
      "Epoch 14/50\n",
      "23/23 [==============================] - 4s 171ms/step - loss: 0.4984 - accuracy: 0.8300 - val_loss: 0.4364 - val_accuracy: 0.8466\n",
      "Epoch 15/50\n",
      "23/23 [==============================] - 4s 170ms/step - loss: 0.4831 - accuracy: 0.8342 - val_loss: 0.4318 - val_accuracy: 0.8510\n",
      "Epoch 16/50\n",
      "23/23 [==============================] - 4s 171ms/step - loss: 0.4738 - accuracy: 0.8379 - val_loss: 0.4285 - val_accuracy: 0.8507\n",
      "Epoch 17/50\n",
      "23/23 [==============================] - 4s 172ms/step - loss: 0.4574 - accuracy: 0.8424 - val_loss: 0.4196 - val_accuracy: 0.8537\n",
      "Epoch 18/50\n",
      "23/23 [==============================] - 4s 171ms/step - loss: 0.4528 - accuracy: 0.8438 - val_loss: 0.4171 - val_accuracy: 0.8552\n",
      "Epoch 19/50\n",
      "23/23 [==============================] - 4s 172ms/step - loss: 0.4409 - accuracy: 0.8476 - val_loss: 0.4069 - val_accuracy: 0.8563\n",
      "Epoch 20/50\n",
      "23/23 [==============================] - 4s 171ms/step - loss: 0.4337 - accuracy: 0.8502 - val_loss: 0.4019 - val_accuracy: 0.8594\n",
      "Epoch 21/50\n",
      "23/23 [==============================] - 4s 171ms/step - loss: 0.4263 - accuracy: 0.8512 - val_loss: 0.3990 - val_accuracy: 0.8577\n",
      "Epoch 22/50\n",
      "23/23 [==============================] - 4s 171ms/step - loss: 0.4177 - accuracy: 0.8534 - val_loss: 0.3886 - val_accuracy: 0.8623\n",
      "Epoch 23/50\n",
      "23/23 [==============================] - 4s 170ms/step - loss: 0.4088 - accuracy: 0.8575 - val_loss: 0.3846 - val_accuracy: 0.8621\n",
      "Epoch 24/50\n",
      "23/23 [==============================] - 4s 171ms/step - loss: 0.4054 - accuracy: 0.8588 - val_loss: 0.3853 - val_accuracy: 0.8620\n",
      "Epoch 25/50\n",
      "23/23 [==============================] - 4s 172ms/step - loss: 0.4013 - accuracy: 0.8601 - val_loss: 0.3854 - val_accuracy: 0.8634\n",
      "Epoch 26/50\n",
      "23/23 [==============================] - 4s 171ms/step - loss: 0.3974 - accuracy: 0.8615 - val_loss: 0.3771 - val_accuracy: 0.8653\n",
      "Epoch 27/50\n",
      "23/23 [==============================] - 4s 171ms/step - loss: 0.3914 - accuracy: 0.8617 - val_loss: 0.3788 - val_accuracy: 0.8663\n",
      "Epoch 28/50\n",
      "23/23 [==============================] - 4s 172ms/step - loss: 0.3867 - accuracy: 0.8645 - val_loss: 0.3680 - val_accuracy: 0.8689\n",
      "Epoch 29/50\n",
      "23/23 [==============================] - 4s 171ms/step - loss: 0.3819 - accuracy: 0.8657 - val_loss: 0.3642 - val_accuracy: 0.8681\n",
      "Epoch 30/50\n",
      "23/23 [==============================] - 4s 172ms/step - loss: 0.3716 - accuracy: 0.8691 - val_loss: 0.3683 - val_accuracy: 0.8661\n",
      "Epoch 31/50\n",
      "23/23 [==============================] - 4s 171ms/step - loss: 0.3706 - accuracy: 0.8693 - val_loss: 0.3610 - val_accuracy: 0.8721\n",
      "Epoch 32/50\n",
      "23/23 [==============================] - 4s 170ms/step - loss: 0.3668 - accuracy: 0.8704 - val_loss: 0.3663 - val_accuracy: 0.8674\n",
      "Epoch 33/50\n",
      "23/23 [==============================] - 4s 170ms/step - loss: 0.3650 - accuracy: 0.8714 - val_loss: 0.3599 - val_accuracy: 0.8727\n",
      "Epoch 34/50\n",
      "23/23 [==============================] - 4s 171ms/step - loss: 0.3623 - accuracy: 0.8708 - val_loss: 0.3652 - val_accuracy: 0.8693\n",
      "Epoch 35/50\n",
      "23/23 [==============================] - 4s 170ms/step - loss: 0.3562 - accuracy: 0.8740 - val_loss: 0.3551 - val_accuracy: 0.8724\n",
      "Epoch 36/50\n",
      "23/23 [==============================] - 4s 171ms/step - loss: 0.3506 - accuracy: 0.8746 - val_loss: 0.3537 - val_accuracy: 0.8722\n",
      "Epoch 37/50\n",
      "23/23 [==============================] - 4s 170ms/step - loss: 0.3524 - accuracy: 0.8734 - val_loss: 0.3563 - val_accuracy: 0.8700\n",
      "Epoch 38/50\n",
      "23/23 [==============================] - 4s 170ms/step - loss: 0.3469 - accuracy: 0.8756 - val_loss: 0.3558 - val_accuracy: 0.8735\n",
      "Epoch 39/50\n",
      "23/23 [==============================] - 4s 170ms/step - loss: 0.3495 - accuracy: 0.8752 - val_loss: 0.3522 - val_accuracy: 0.8721\n",
      "Epoch 40/50\n",
      "23/23 [==============================] - 4s 170ms/step - loss: 0.3431 - accuracy: 0.8762 - val_loss: 0.3504 - val_accuracy: 0.8756\n",
      "Epoch 41/50\n",
      "23/23 [==============================] - 4s 170ms/step - loss: 0.3366 - accuracy: 0.8792 - val_loss: 0.3494 - val_accuracy: 0.8743\n",
      "Epoch 42/50\n",
      "23/23 [==============================] - 4s 171ms/step - loss: 0.3363 - accuracy: 0.8789 - val_loss: 0.3574 - val_accuracy: 0.8724\n",
      "Epoch 43/50\n",
      "23/23 [==============================] - 4s 170ms/step - loss: 0.3351 - accuracy: 0.8800 - val_loss: 0.3536 - val_accuracy: 0.8736\n",
      "Epoch 44/50\n",
      "23/23 [==============================] - 4s 171ms/step - loss: 0.3310 - accuracy: 0.8816 - val_loss: 0.3443 - val_accuracy: 0.8753\n",
      "Epoch 45/50\n",
      "23/23 [==============================] - 4s 170ms/step - loss: 0.3296 - accuracy: 0.8815 - val_loss: 0.3427 - val_accuracy: 0.8777\n",
      "Epoch 46/50\n",
      "23/23 [==============================] - 4s 172ms/step - loss: 0.3245 - accuracy: 0.8818 - val_loss: 0.3474 - val_accuracy: 0.8758\n",
      "Epoch 47/50\n",
      "23/23 [==============================] - 4s 173ms/step - loss: 0.3221 - accuracy: 0.8834 - val_loss: 0.3440 - val_accuracy: 0.8784\n",
      "Epoch 48/50\n",
      "23/23 [==============================] - 4s 173ms/step - loss: 0.3213 - accuracy: 0.8833 - val_loss: 0.3424 - val_accuracy: 0.8772\n",
      "Epoch 49/50\n",
      "23/23 [==============================] - 4s 172ms/step - loss: 0.3189 - accuracy: 0.8846 - val_loss: 0.3439 - val_accuracy: 0.8763\n",
      "Epoch 50/50\n",
      "23/23 [==============================] - 4s 170ms/step - loss: 0.3165 - accuracy: 0.8849 - val_loss: 0.3453 - val_accuracy: 0.8762\n",
      "\n",
      " Evaluate the new model against the test set:\n",
      "5/5 [==============================] - 1s 225ms/step - loss: 0.3662 - accuracy: 0.8754\n"
     ]
    },
    {
     "data": {
      "text/plain": [
       "[0.36624884605407715, 0.8754255175590515]"
      ]
     },
     "execution_count": 8,
     "metadata": {},
     "output_type": "execute_result"
    },
    {
     "data": {
      "image/png": "[encoded data removed]",
      "text/plain": [
       "<Figure size 432x288 with 1 Axes>"
      ]
     },
     "metadata": {
      "needs_background": "light"
     },
     "output_type": "display_data"
    }
   ],
   "source": [
    "\n",
    "# inicijalizacija nekih hyperparametara\n",
    "learning_rate = 0.001\n",
    "epochs = 50\n",
    "batch_size = 4000\n",
    "validation_split = 0.2\n",
    "\n",
    "# stvori model\n",
    "my_model = create_model( learning_rate)\n",
    "  \n",
    "# pokreni treniranje\n",
    "epochs, hist = train_model( my_model, x_train, y_train,\n",
    "                                  epochs, batch_size, validation_split)\n",
    "\n",
    "# nacrtaj graf preciznosti po epohama\n",
    "list_of_metrics_to_plot = ['accuracy']\n",
    "plot_curve( epochs, hist, list_of_metrics_to_plot)\n",
    "\n",
    "# evaluiraj model na test set-u\n",
    "print(\"\\n Evaluate the new model against the test set:\")\n",
    "my_model.evaluate( x=x_test, y=y_test, batch_size=batch_size)"
   ]
  },
  {
   "cell_type": "code",
   "execution_count": 9,
   "metadata": {
    "colab": {
     "base_uri": "https://localhost:8080/"
    },
    "executionInfo": {
     "elapsed": 252,
     "status": "ok",
     "timestamp": 1635679212897,
     "user": {
      "displayName": "Renato Jurisic",
      "photoUrl": "https://lh3.googleusercontent.com/a/default-user=s64",
      "userId": "05301050288504605714"
     },
     "user_tz": -60
    },
    "id": "gIKmNZqOE98e",
    "outputId": "f106d56e-ef4e-4a13-86f2-b79af6f449bd"
   },
   "outputs": [
    {
     "data": {
      "text/plain": [
       "['loss', 'accuracy']"
      ]
     },
     "execution_count": 9,
     "metadata": {},
     "output_type": "execute_result"
    }
   ],
   "source": [
    "my_model.metrics_names"
   ]
  }
 ],
 "metadata": {
  "colab": {
   "authorship_tag": "ABX9TyMdzvavMwtUw4ct/kmyQ4dc",
   "collapsed_sections": [],
   "mount_file_id": "1Yq6M19V6kLsNWTQ7K79PxMhjpwUO0qZC",
   "name": "EMINST_classification.ipynb",
   "provenance": []
  },
  "kernelspec": {
   "display_name": "Python 3 (ipykernel)",
   "language": "python",
   "name": "python3"
  },
  "language_info": {
   "codemirror_mode": {
    "name": "ipython",
    "version": 3
   },
   "file_extension": ".py",
   "mimetype": "text/x-python",
   "name": "python",
   "nbconvert_exporter": "python",
   "pygments_lexer": "ipython3",
   "version": "3.9.6"
  }
 },
 "nbformat": 4,
 "nbformat_minor": 1
}
