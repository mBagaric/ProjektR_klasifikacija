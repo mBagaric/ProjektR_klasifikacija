{
 "cells": [
  {
   "cell_type": "code",
   "execution_count": 85,
   "id": "c391582d",
   "metadata": {},
   "outputs": [],
   "source": [
    "from sklearn.neighbors import KNeighborsClassifier\n",
    "from sklearn.pipeline import Pipeline\n",
    "from sklearn.preprocessing import StandardScaler\n",
    "from sklearn.model_selection import GridSearchCV\n",
    "from sklearn.metrics import accuracy_score, confusion_matrix\n",
    "from sklearn.datasets import fetch_openml\n",
    "from sklearn.model_selection import train_test_split\n",
    "import tensorflow as tf\n",
    "import tensorflow_datasets as tfds\n",
    "import numpy as np\n",
    "from sklearn.model_selection import PredefinedSplit\n",
    "from sklearn import svm"
   ]
  },
  {
   "cell_type": "code",
   "execution_count": 18,
   "id": "1c18ac4f",
   "metadata": {},
   "outputs": [],
   "source": [
    "# ucitavanje podataka\n",
    "train, test = tfds.load( 'emnist/balanced', split=['train', 'test'], shuffle_files=True)\n",
    "df_train = tfds.as_dataframe( train)\n",
    "df_test = tfds.as_dataframe( test)"
   ]
  },
  {
   "cell_type": "code",
   "execution_count": 60,
   "id": "f304dabd",
   "metadata": {},
   "outputs": [],
   "source": [
    "X = np.stack( [img.reshape(28*28) for img in df_train['image']])\n",
    "Y = df_train['label'].to_numpy()"
   ]
  },
  {
   "cell_type": "code",
   "execution_count": 61,
   "id": "541470e4",
   "metadata": {},
   "outputs": [],
   "source": [
    "(X_train, X_val, Y_train, Y_val) = train_test_split( X, Y, test_size=0.25)"
   ]
  },
  {
   "cell_type": "code",
   "execution_count": 81,
   "id": "bfe71c80",
   "metadata": {},
   "outputs": [],
   "source": [
    "#KNeighborsClassifier\n",
    "grid1 = [\n",
    "    {\"weights\": [\"uniform\", \"distance\"], \"n_neighbors\": [6, 7, 8]} # distance, 7; acc = 0.773\n",
    "]"
   ]
  },
  {
   "cell_type": "code",
   "execution_count": 93,
   "id": "5f8e5895",
   "metadata": {},
   "outputs": [],
   "source": [
    "grid2 = [{\n",
    "    \"C\": [1, 1000],\n",
    "    \"kernel\": [\"linear\", \"poly\"],\n",
    "    \"degree\": [ 3],\n",
    "    \"gamma\" : [\"scale\"]\n",
    "} # distance, 7\n",
    "]"
   ]
  },
  {
   "cell_type": "code",
   "execution_count": 82,
   "id": "2671f5b1",
   "metadata": {},
   "outputs": [],
   "source": [
    "B_train = 10000\n",
    "B_val = 1000\n",
    "X_train_small = X_train[ 0:B_train]\n",
    "Y_train_small = Y_train[ 0:B_train]\n",
    "X_val_small = X_val[ 0:B_val]\n",
    "Y_val_small = Y_val[ 0:B_val]"
   ]
  },
  {
   "cell_type": "code",
   "execution_count": 94,
   "id": "9e53691f",
   "metadata": {},
   "outputs": [
    {
     "name": "stdout",
     "output_type": "stream",
     "text": [
      "Fitting 3 folds for each of 4 candidates, totalling 12 fits\n",
      "[CV 1/3] END C=1, degree=3, gamma=scale, kernel=linear;, score=-149.371 total time=  41.7s\n",
      "[CV 2/3] END C=1, degree=3, gamma=scale, kernel=linear;, score=-148.042 total time=  36.7s\n",
      "[CV 3/3] END C=1, degree=3, gamma=scale, kernel=linear;, score=-142.812 total time=  36.8s\n",
      "[CV 1/3] END C=1, degree=3, gamma=scale, kernel=poly;, score=-125.561 total time=  42.5s\n",
      "[CV 2/3] END C=1, degree=3, gamma=scale, kernel=poly;, score=-123.351 total time=  40.9s\n",
      "[CV 3/3] END C=1, degree=3, gamma=scale, kernel=poly;, score=-120.361 total time=  40.1s\n",
      "[CV 1/3] END C=1000, degree=3, gamma=scale, kernel=linear;, score=-149.371 total time=  36.9s\n",
      "[CV 2/3] END C=1000, degree=3, gamma=scale, kernel=linear;, score=-148.042 total time=  34.4s\n",
      "[CV 3/3] END C=1000, degree=3, gamma=scale, kernel=linear;, score=-142.812 total time=  34.3s\n",
      "[CV 1/3] END C=1000, degree=3, gamma=scale, kernel=poly;, score=-119.272 total time=  39.3s\n",
      "[CV 2/3] END C=1000, degree=3, gamma=scale, kernel=poly;, score=-124.060 total time=  50.4s\n",
      "[CV 3/3] END C=1000, degree=3, gamma=scale, kernel=poly;, score=-116.913 total time=  41.4s\n"
     ]
    },
    {
     "data": {
      "text/plain": [
       "GridSearchCV(cv=3, estimator=SVC(),\n",
       "             param_grid=[{'C': [1, 1000], 'degree': [3], 'gamma': ['scale'],\n",
       "                          'kernel': ['linear', 'poly']}],\n",
       "             scoring='neg_mean_squared_error', verbose=4)"
      ]
     },
     "execution_count": 94,
     "metadata": {},
     "output_type": "execute_result"
    }
   ],
   "source": [
    "clf = svm.SVC()\n",
    "grid_search = GridSearchCV( clf, grid2, cv=3, scoring=\"neg_mean_squared_error\", verbose=4)\n",
    "grid_search.fit( X_train_small, Y_train_small)"
   ]
  },
  {
   "cell_type": "code",
   "execution_count": 95,
   "id": "e8be9ac0",
   "metadata": {},
   "outputs": [],
   "source": [
    "best_clf = grid_search.best_estimator_"
   ]
  },
  {
   "cell_type": "code",
   "execution_count": null,
   "id": "d8da9944",
   "metadata": {},
   "outputs": [],
   "source": [
    "best_clf.fit( X_train, Y_train)"
   ]
  },
  {
   "cell_type": "code",
   "execution_count": null,
   "id": "a3ff800d",
   "metadata": {},
   "outputs": [],
   "source": [
    "y_pred = best_clf.predict( X_val)"
   ]
  },
  {
   "cell_type": "code",
   "execution_count": null,
   "id": "9f8222fb",
   "metadata": {},
   "outputs": [],
   "source": [
    "from sklearn.metrics import accuracy_score\n",
    "accuracy_score( Y_val, y_pred)"
   ]
  },
  {
   "cell_type": "code",
   "execution_count": null,
   "id": "6f2d38bf",
   "metadata": {},
   "outputs": [],
   "source": [
    "best_clf.fit( )"
   ]
  }
 ],
 "metadata": {
  "kernelspec": {
   "display_name": "Python 3 (ipykernel)",
   "language": "python",
   "name": "python3"
  },
  "language_info": {
   "codemirror_mode": {
    "name": "ipython",
    "version": 3
   },
   "file_extension": ".py",
   "mimetype": "text/x-python",
   "name": "python",
   "nbconvert_exporter": "python",
   "pygments_lexer": "ipython3",
   "version": "3.9.6"
  }
 },
 "nbformat": 4,
 "nbformat_minor": 5
}
