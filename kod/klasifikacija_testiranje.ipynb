{
 "cells": [
  {
   "cell_type": "code",
   "execution_count": 9,
   "id": "f9916ccb",
   "metadata": {},
   "outputs": [],
   "source": [
    "import tensorflow as tf\n",
    "import tensorflow_datasets as tfds\n",
    "from matplotlib import pyplot as plt\n",
    "import pandas as pd\n",
    "import numpy as np\n",
    "from tensorflow import keras"
   ]
  },
  {
   "cell_type": "code",
   "execution_count": 10,
   "id": "0cae8a84",
   "metadata": {},
   "outputs": [],
   "source": [
    "train, test = tfds.load( 'emnist/balanced', split=['train', 'test'], shuffle_files=True)\n",
    "df_train = tfds.as_dataframe( train)\n",
    "df_test = tfds.as_dataframe( test)"
   ]
  },
  {
   "cell_type": "code",
   "execution_count": 11,
   "id": "fc34b57b",
   "metadata": {},
   "outputs": [],
   "source": [
    "def reshape_rot_flip( img):\n",
    "    img = np.rot90(img, k=-1, axes=(0,1))\n",
    "    img = np.flip( img, (1))\n",
    "    return img"
   ]
  },
  {
   "cell_type": "code",
   "execution_count": 17,
   "id": "3ac757fd",
   "metadata": {},
   "outputs": [],
   "source": [
    "x_train = np.stack( [reshape_rot_flip(img) for img in df_train['image']]) / 255\n",
    "y_train = df_train['label'].to_numpy()\n",
    "x_test = np.stack( [reshape_rot_flip(img) for img in df_test['image']]) / 255\n",
    "y_test = df_test['label'].to_numpy()"
   ]
  },
  {
   "cell_type": "code",
   "execution_count": 18,
   "id": "a5346489",
   "metadata": {},
   "outputs": [],
   "source": [
    "def plot_curve( epochs, hist, list_of_metrics):\n",
    "    plt.figure()\n",
    "    plt.xlabel( 'Epoch')\n",
    "    plt.ylabel( 'Value')\n",
    "    \n",
    "    for m in list_of_metrics:\n",
    "        x = hist[m]\n",
    "        plt.plot( epochs[1:], x[1:], label=m)\n",
    "        \n",
    "    plt.legend()"
   ]
  },
  {
   "cell_type": "code",
   "execution_count": 27,
   "id": "184d1378",
   "metadata": {},
   "outputs": [],
   "source": [
    "from tensorflow import keras\n",
    "model = keras.models.load_model('prezentirano_profesoru/final_simple_v1.0')"
   ]
  },
  {
   "cell_type": "code",
   "execution_count": 25,
   "id": "df5331e0",
   "metadata": {},
   "outputs": [
    {
     "ename": "AttributeError",
     "evalue": "'_UserObject' object has no attribute 'evaluate'",
     "output_type": "error",
     "traceback": [
      "\u001b[1;31m---------------------------------------------------------------------------\u001b[0m",
      "\u001b[1;31mAttributeError\u001b[0m                            Traceback (most recent call last)",
      "\u001b[1;32m~\\AppData\\Local\\Temp/ipykernel_12340/1077246224.py\u001b[0m in \u001b[0;36m<module>\u001b[1;34m\u001b[0m\n\u001b[1;32m----> 1\u001b[1;33m \u001b[0mmodel\u001b[0m\u001b[1;33m.\u001b[0m\u001b[0mevaluate\u001b[0m\u001b[1;33m(\u001b[0m \u001b[0mx\u001b[0m\u001b[1;33m=\u001b[0m\u001b[0mx_test\u001b[0m\u001b[1;33m,\u001b[0m \u001b[0my\u001b[0m\u001b[1;33m=\u001b[0m\u001b[0my_test\u001b[0m\u001b[1;33m,\u001b[0m \u001b[0mbatch_size\u001b[0m\u001b[1;33m=\u001b[0m\u001b[1;36m4000\u001b[0m\u001b[1;33m)\u001b[0m\u001b[1;33m\u001b[0m\u001b[1;33m\u001b[0m\u001b[0m\n\u001b[0m",
      "\u001b[1;31mAttributeError\u001b[0m: '_UserObject' object has no attribute 'evaluate'"
     ]
    }
   ],
   "source": [
    "model.evaluate( x=x_test, y=y_test, batch_size=4000)"
   ]
  },
  {
   "cell_type": "code",
   "execution_count": 21,
   "id": "002351db",
   "metadata": {},
   "outputs": [
    {
     "data": {
      "text/plain": [
       "['loss', 'accuracy']"
      ]
     },
     "execution_count": 21,
     "metadata": {},
     "output_type": "execute_result"
    }
   ],
   "source": [
    "model.metrics_names"
   ]
  },
  {
   "cell_type": "code",
   "execution_count": null,
   "id": "6631943a",
   "metadata": {},
   "outputs": [],
   "source": []
  }
 ],
 "metadata": {
  "kernelspec": {
   "display_name": "Python 3 (ipykernel)",
   "language": "python",
   "name": "python3"
  },
  "language_info": {
   "codemirror_mode": {
    "name": "ipython",
    "version": 3
   },
   "file_extension": ".py",
   "mimetype": "text/x-python",
   "name": "python",
   "nbconvert_exporter": "python",
   "pygments_lexer": "ipython3",
   "version": "3.9.6"
  }
 },
 "nbformat": 4,
 "nbformat_minor": 5
}
